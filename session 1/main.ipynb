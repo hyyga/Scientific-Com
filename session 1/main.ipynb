{
 "cells": [
  {
   "cell_type": "code",
   "execution_count": 1,
   "metadata": {},
   "outputs": [
    {
     "name": "stdout",
     "output_type": "stream",
     "text": [
      "hello world\n"
     ]
    }
   ],
   "source": [
    "print('hello world')"
   ]
  },
  {
   "cell_type": "code",
   "execution_count": 2,
   "metadata": {},
   "outputs": [],
   "source": [
    "import matplotlib as plt"
   ]
  },
  {
   "cell_type": "code",
   "execution_count": 3,
   "metadata": {},
   "outputs": [
    {
     "name": "stdout",
     "output_type": "stream",
     "text": [
      "10\n"
     ]
    }
   ],
   "source": [
    "x = 10\n",
    "print(x)"
   ]
  },
  {
   "cell_type": "code",
   "execution_count": 1,
   "metadata": {},
   "outputs": [
    {
     "name": "stdout",
     "output_type": "stream",
     "text": [
      "budi punya 12 apel\n"
     ]
    }
   ],
   "source": [
    "n = input()\n",
    "print('budi punya', n, 'apel')"
   ]
  },
  {
   "cell_type": "code",
   "execution_count": 15,
   "metadata": {},
   "outputs": [
    {
     "name": "stdout",
     "output_type": "stream",
     "text": [
      "11\n"
     ]
    }
   ],
   "source": [
    "x += 1\n",
    "print(x)"
   ]
  },
  {
   "cell_type": "code",
   "execution_count": 16,
   "metadata": {},
   "outputs": [
    {
     "name": "stdout",
     "output_type": "stream",
     "text": [
      "true\n"
     ]
    }
   ],
   "source": [
    "if (x>10):\n",
    "    print('more than 10')\n",
    "elif x == 10:\n",
    "    print('same')\n",
    "else:\n",
    "    print('less')"
   ]
  },
  {
   "cell_type": "code",
   "execution_count": 18,
   "metadata": {},
   "outputs": [
    {
     "name": "stdout",
     "output_type": "stream",
     "text": [
      "0\n",
      "1\n",
      "2\n",
      "3\n",
      "4\n",
      "5\n",
      "6\n",
      "7\n",
      "8\n",
      "9\n"
     ]
    }
   ],
   "source": [
    "for i in range (10):\n",
    "    print (i)"
   ]
  },
  {
   "cell_type": "code",
   "execution_count": 19,
   "metadata": {},
   "outputs": [
    {
     "name": "stdout",
     "output_type": "stream",
     "text": [
      "0\n",
      "2\n",
      "4\n",
      "6\n",
      "8\n"
     ]
    }
   ],
   "source": [
    "for i in range (0, 10, 2):\n",
    "    print (i)"
   ]
  },
  {
   "cell_type": "code",
   "execution_count": 21,
   "metadata": {},
   "outputs": [
    {
     "name": "stdout",
     "output_type": "stream",
     "text": [
      "10\n",
      "9\n",
      "8\n",
      "7\n",
      "6\n",
      "5\n",
      "4\n",
      "3\n",
      "2\n",
      "1\n"
     ]
    }
   ],
   "source": [
    "x = 10\n",
    "while (x):\n",
    "    print(x)\n",
    "    x -= 1"
   ]
  },
  {
   "cell_type": "code",
   "execution_count": 23,
   "metadata": {},
   "outputs": [
    {
     "name": "stdout",
     "output_type": "stream",
     "text": [
      "[2, 2, 2]\n",
      "[2, 2, 2]\n"
     ]
    }
   ],
   "source": [
    "# list ditandai dengan kurung siku\n",
    "list = []\n",
    "list.append(2)\n",
    "list.append(2)\n",
    "list.append(2)\n",
    "\n",
    "print(list)\n",
    "list.remove\n",
    "print(list)"
   ]
  },
  {
   "cell_type": "code",
   "execution_count": 38,
   "metadata": {},
   "outputs": [
    {
     "name": "stdout",
     "output_type": "stream",
     "text": [
      "[100, 1, 2, 3, 4, 5, 6, 7, 8, 9]\n",
      "[4, 5, 6, 7]\n",
      "[]\n",
      "[9, 8, 7, 6, 5, 4, 3, 2, 1, 100]\n"
     ]
    }
   ],
   "source": [
    "# list ditandai dengan kurung siku\n",
    "list = []\n",
    "for i in range (10):\n",
    "    list.append(i)\n",
    "list[0] = 100\n",
    "print(list)\n",
    "print(list[4:8]) # menampilkan nilai list dari index ke 4 sampai 8\n",
    "print(list[4:8:-1]) # menapilkan dari belakang\n",
    "print(list[::-1]) # revers\n"
   ]
  },
  {
   "cell_type": "code",
   "execution_count": 37,
   "metadata": {},
   "outputs": [
    {
     "name": "stdout",
     "output_type": "stream",
     "text": [
      "(2, 4, 2, 3)\n"
     ]
    }
   ],
   "source": [
    "# tuple tidak dapat mengubah data yang sudah dibuat\n",
    "tuple = (2, )\n",
    "# tupel.append, akan menyebabkan error tuple tidak dapat menggunakan append\n",
    "tuple = tuple + (4, 2, 3) #tuple tidak dapat dimasukan integer\n",
    "print(tuple)"
   ]
  },
  {
   "cell_type": "code",
   "execution_count": 46,
   "metadata": {},
   "outputs": [
    {
     "name": "stdout",
     "output_type": "stream",
     "text": [
      "{2, 3, 4, 5, 19}\n"
     ]
    }
   ],
   "source": [
    "set = {2, 3,4,5,19}\n",
    "set.add (2)\n",
    "print(set)\n",
    "# set tidak dapat menerima data yang duplikat atau data yang sama"
   ]
  },
  {
   "cell_type": "code",
   "execution_count": 52,
   "metadata": {},
   "outputs": [
    {
     "name": "stdout",
     "output_type": "stream",
     "text": [
      "3\n",
      "8\n",
      "aaa\n",
      "bbbaaa\n"
     ]
    }
   ],
   "source": [
    "dict = {'a' : 3}\n",
    "dict['b'] = 5\n",
    "print(dict['a'])\n",
    "print(dict['a'] + dict ['b'])\n",
    "\n",
    "dict = {'c' : 'aaa'}\n",
    "dict['d'] = 'bbb'\n",
    "print(dict['c'])\n",
    "print(dict['d'] + dict ['c'])"
   ]
  },
  {
   "cell_type": "code",
   "execution_count": 53,
   "metadata": {},
   "outputs": [
    {
     "name": "stdout",
     "output_type": "stream",
     "text": [
      "apel\n",
      "jeruk\n",
      "pisang\n"
     ]
    }
   ],
   "source": [
    "list = ['apel', 'jeruk', 'pisang']\n",
    "for i in list:\n",
    "    print(i)"
   ]
  },
  {
   "cell_type": "code",
   "execution_count": 58,
   "metadata": {},
   "outputs": [
    {
     "name": "stdout",
     "output_type": "stream",
     "text": [
      ". apel\n",
      ". jeruk\n",
      ". pisang\n"
     ]
    }
   ],
   "source": [
    "list = ['apel', 'jeruk', 'pisang']\n",
    "for idx, i in enumerate(list):\n",
    "    print(f\". {i}\")"
   ]
  },
  {
   "cell_type": "code",
   "execution_count": 61,
   "metadata": {},
   "outputs": [
    {
     "name": "stdout",
     "output_type": "stream",
     "text": [
      "apel nobel\n",
      "jeruk shan\n",
      "pisang setiono\n",
      "\n",
      "\n",
      "0 apel nobel\n",
      "1 jeruk shan\n",
      "2 pisang setiono\n"
     ]
    }
   ],
   "source": [
    "list = ['apel', 'jeruk', 'pisang']\n",
    "nama =['nobel', 'shan', 'setiono']\n",
    "\n",
    "for x,y in zip(list, nama):\n",
    "    print(x, y)\n",
    "print(\"\\n\")\n",
    "    \n",
    "for idx, (x,y) in enumerate(zip(list, nama)):\n",
    "    print(idx, x, y)"
   ]
  },
  {
   "cell_type": "code",
   "execution_count": 1,
   "metadata": {},
   "outputs": [],
   "source": [
    "import numpy as np"
   ]
  }
 ],
 "metadata": {
  "kernelspec": {
   "display_name": "Python 3",
   "language": "python",
   "name": "python3"
  },
  "language_info": {
   "codemirror_mode": {
    "name": "ipython",
    "version": 3
   },
   "file_extension": ".py",
   "mimetype": "text/x-python",
   "name": "python",
   "nbconvert_exporter": "python",
   "pygments_lexer": "ipython3",
   "version": "3.11.9"
  }
 },
 "nbformat": 4,
 "nbformat_minor": 2
}
