{
 "cells": [
  {
   "cell_type": "code",
   "execution_count": null,
   "metadata": {},
   "outputs": [],
   "source": [
    "# step 1:\n",
    "#     bagi interval jadi n titik, koordinat x dari titik titik terebut disimpan dalam sebuah list point = [3,3.25, 3.5, 3.75, 4]\n",
    "\n",
    "# step 2:\n",
    "#     tentukan jarak antar titik\n",
    "#     1. width = point[1] - point[0]\n",
    "#     2. width = (right-left)/(n-1)\n",
    "#     (n-1) -> jumlah daerah \n",
    "\n",
    "# left riemman\n",
    "# step 3:\n",
    "#     hitung liad daerah di atas kurva untuk f(x)> 0 dan luas daerah bawah kurva untuk f(x) < 0\n",
    "#     ltot = l1 + l2 + ... + lm\n",
    "#     ltot - p1.l1 + p2.l2 + ...\n",
    "#     ltot = l(p1 + p2 + ... + pm)\n",
    "#     ltot = l.sum(f(x))\n",
    "#     dimana x dari index 0 sampai idex n-2\n",
    "    \n",
    "# right riemman:\n",
    "#     hitung lias siatas kurba untuk f(x)>0 dan luas di bawah kurva untuk f(x)<0\n",
    "#     ltot = l1 + l2 + ... + lm\n",
    "#     ltot - p1.l1 + p2.l2 + ...\n",
    "#     ltot = l(p1 + p2 + ... + pm)\n",
    "#     ltot = l.sum(f(x))\n",
    "#     dimana x dari index 1 sampai idex n-1\n",
    "\n",
    "\n",
    "# mid riemman:\n",
    "#     cari titik tengah untuk setiap daerah\n",
    "#     1. mid_x = left_x + (width/2)\n",
    "#     2. mid_x = (right_x + left_x)/2\n",
    "    \n",
    "# step 4:\n",
    "#     panjang dari daerah ditentukan dari hasil f(x_mid)\n",
    "#     ltot = l1 + l2 + ... + lm\n",
    "#   ltot - p1.l1 + p2.l2 + ...\n",
    "#   ltot = l(p1 + p2 + ... + pm)\n",
    "#   ltot = l.sum(X_mid)\n",
    "\n",
    "\n",
    "# Trapezoid reimman:\n",
    "#     step 3: \n",
    "#         L tot = L1 + L2 + ... + Lm\n",
    "#         Lx = (JJS).t/2\n",
    "        \n",
    "#         Ltot = (JJS1).t1/2 + ... (JJs2).t2/2\n",
    "#         Ltot = (t/2).(JJS1 + JJs2 + ... + JJSm)\n",
    "#         Ltot = (t/2) + sum(JJS)\n",
    "        \n",
    "#         total dari semua sisi sejajar\n",
    "#         f(x[0]) + f(x[n-1]) + 2*f(x[1:n-2])"
   ]
  },
  {
   "cell_type": "code",
   "execution_count": 26,
   "metadata": {},
   "outputs": [
    {
     "name": "stdout",
     "output_type": "stream",
     "text": [
      "banyak point [3.         3.01010101 3.02020202 3.03030303 3.04040404 3.05050505\n",
      " 3.06060606 3.07070707 3.08080808 3.09090909 3.1010101  3.11111111\n",
      " 3.12121212 3.13131313 3.14141414 3.15151515 3.16161616 3.17171717\n",
      " 3.18181818 3.19191919 3.2020202  3.21212121 3.22222222 3.23232323\n",
      " 3.24242424 3.25252525 3.26262626 3.27272727 3.28282828 3.29292929\n",
      " 3.3030303  3.31313131 3.32323232 3.33333333 3.34343434 3.35353535\n",
      " 3.36363636 3.37373737 3.38383838 3.39393939 3.4040404  3.41414141\n",
      " 3.42424242 3.43434343 3.44444444 3.45454545 3.46464646 3.47474747\n",
      " 3.48484848 3.49494949 3.50505051 3.51515152 3.52525253 3.53535354\n",
      " 3.54545455 3.55555556 3.56565657 3.57575758 3.58585859 3.5959596\n",
      " 3.60606061 3.61616162 3.62626263 3.63636364 3.64646465 3.65656566\n",
      " 3.66666667 3.67676768 3.68686869 3.6969697  3.70707071 3.71717172\n",
      " 3.72727273 3.73737374 3.74747475 3.75757576 3.76767677 3.77777778\n",
      " 3.78787879 3.7979798  3.80808081 3.81818182 3.82828283 3.83838384\n",
      " 3.84848485 3.85858586 3.86868687 3.87878788 3.88888889 3.8989899\n",
      " 3.90909091 3.91919192 3.92929293 3.93939394 3.94949495 3.95959596\n",
      " 3.96969697 3.97979798 3.98989899 4.        ]\n",
      "jarak antar titik 0.010101010101009944\n"
     ]
    }
   ],
   "source": [
    "import numpy as np\n",
    "\n",
    "# step 1 define functionnya terlebih dahulu\n",
    "def f(x):\n",
    "    return 2*x**2 - 7*x - 8\n",
    "\n",
    "# step 2 define interval dan jumlah titiknya\n",
    "n = 100\n",
    "X_left = 3\n",
    "X_right = 4\n",
    "\n",
    "# step 3 membagi interval menjadi n titik\\ sesuai titik yg sudah didefinisikan di step 2\n",
    "point_X = np.linspace(X_left, X_right, n)\n",
    "print('banyak point', point_X)\n",
    "\n",
    "# step 4 menentukan jarak antar titik\n",
    "width = point_X[1] - point_X[0]\n",
    "print('jarak antar titik', width)"
   ]
  },
  {
   "cell_type": "code",
   "execution_count": 27,
   "metadata": {},
   "outputs": [
    {
     "name": "stdout",
     "output_type": "stream",
     "text": [
      "area di kiri -7.868652858551727\n"
     ]
    }
   ],
   "source": [
    "# left riemman \n",
    "left_area = width*np.sum(f(point_X[0:n-1]))\n",
    "print('area di kiri', left_area)"
   ]
  },
  {
   "cell_type": "code",
   "execution_count": 28,
   "metadata": {},
   "outputs": [
    {
     "name": "stdout",
     "output_type": "stream",
     "text": [
      "area di kiri -7.797945787844656\n"
     ]
    }
   ],
   "source": [
    "# right riemman \n",
    "right_area = width*np.sum(f(point_X[1:n]))\n",
    "print('area di kiri', right_area)"
   ]
  },
  {
   "cell_type": "code",
   "execution_count": 29,
   "metadata": {},
   "outputs": [
    {
     "name": "stdout",
     "output_type": "stream",
     "text": [
      "nilai X_mid:  [3.00505051 3.01515152 3.02525253 3.03535354 3.04545455 3.05555556\n",
      " 3.06565657 3.07575758 3.08585859 3.0959596  3.10606061 3.11616162\n",
      " 3.12626263 3.13636364 3.14646465 3.15656566 3.16666667 3.17676768\n",
      " 3.18686869 3.1969697  3.20707071 3.21717172 3.22727273 3.23737374\n",
      " 3.24747475 3.25757576 3.26767677 3.27777778 3.28787879 3.2979798\n",
      " 3.30808081 3.31818182 3.32828283 3.33838384 3.34848485 3.35858586\n",
      " 3.36868687 3.37878788 3.38888889 3.3989899  3.40909091 3.41919192\n",
      " 3.42929293 3.43939394 3.44949495 3.45959596 3.46969697 3.47979798\n",
      " 3.48989899 3.5        3.51010101 3.52020202 3.53030303 3.54040404\n",
      " 3.55050505 3.56060606 3.57070707 3.58080808 3.59090909 3.6010101\n",
      " 3.61111111 3.62121212 3.63131313 3.64141414 3.65151515 3.66161616\n",
      " 3.67171717 3.68181818 3.69191919 3.7020202  3.71212121 3.72222222\n",
      " 3.73232323 3.74242424 3.75252525 3.76262626 3.77272727 3.78282828\n",
      " 3.79292929 3.8030303  3.81313131 3.82323232 3.83333333 3.84343434\n",
      " 3.85353535 3.86363636 3.87373737 3.88383838 3.89393939 3.9040404\n",
      " 3.91414141 3.92424242 3.93434343 3.94444444 3.95454545 3.96464646\n",
      " 3.97474747 3.98484848 3.99494949]\n",
      "besar mid_area:  -7.83335033840072\n"
     ]
    }
   ],
   "source": [
    "# mid riemman\n",
    "# step 1: cari titik tengah untuk setiap daerah\n",
    "\n",
    "X_mid = (point_X[0:n-1] + point_X[1:n])/2\n",
    "print('nilai X_mid: ', X_mid)\n",
    "\n",
    "# step 2: hitung area dibawah atau diatas kurva/ hitung integral\n",
    "mid_area = width*np.sum(f(X_mid))\n",
    "print(\"besar mid_area: \", mid_area)"
   ]
  },
  {
   "cell_type": "code",
   "execution_count": 32,
   "metadata": {},
   "outputs": [
    {
     "name": "stdout",
     "output_type": "stream",
     "text": [
      "total sisi:  -1550.9932659932658\n",
      "area -7.83329932319819\n"
     ]
    }
   ],
   "source": [
    "# trapezoid Riemman\n",
    "# step 1: mencari total dari semua sisi sejajar\n",
    "total_sisi = f(point_X[0]) + f(point_X[n-1]) + np.sum(2*f(point_X[1:n-1]))\n",
    "print(\"total sisi: \", total_sisi)\n",
    "\n",
    "# step 2: mencari luas total\n",
    "area = (width/2) * total_sisi\n",
    "print('area', area)"
   ]
  },
  {
   "cell_type": "code",
   "execution_count": 35,
   "metadata": {},
   "outputs": [
    {
     "name": "stdout",
     "output_type": "stream",
     "text": [
      "Help on _ArrayFunctionDispatcher in module numpy:\n",
      "\n",
      "linspace(start, stop, num=50, endpoint=True, retstep=False, dtype=None, axis=0, *, device=None)\n",
      "    Return evenly spaced numbers over a specified interval.\n",
      "    \n",
      "    Returns `num` evenly spaced samples, calculated over the\n",
      "    interval [`start`, `stop`].\n",
      "    \n",
      "    The endpoint of the interval can optionally be excluded.\n",
      "    \n",
      "    .. versionchanged:: 1.16.0\n",
      "        Non-scalar `start` and `stop` are now supported.\n",
      "    \n",
      "    .. versionchanged:: 1.20.0\n",
      "        Values are rounded towards ``-inf`` instead of ``0`` when an\n",
      "        integer ``dtype`` is specified. The old behavior can\n",
      "        still be obtained with ``np.linspace(start, stop, num).astype(int)``\n",
      "    \n",
      "    Parameters\n",
      "    ----------\n",
      "    start : array_like\n",
      "        The starting value of the sequence.\n",
      "    stop : array_like\n",
      "        The end value of the sequence, unless `endpoint` is set to False.\n",
      "        In that case, the sequence consists of all but the last of ``num + 1``\n",
      "        evenly spaced samples, so that `stop` is excluded.  Note that the step\n",
      "        size changes when `endpoint` is False.\n",
      "    num : int, optional\n",
      "        Number of samples to generate. Default is 50. Must be non-negative.\n",
      "    endpoint : bool, optional\n",
      "        If True, `stop` is the last sample. Otherwise, it is not included.\n",
      "        Default is True.\n",
      "    retstep : bool, optional\n",
      "        If True, return (`samples`, `step`), where `step` is the spacing\n",
      "        between samples.\n",
      "    dtype : dtype, optional\n",
      "        The type of the output array.  If `dtype` is not given, the data type\n",
      "        is inferred from `start` and `stop`. The inferred dtype will never be\n",
      "        an integer; `float` is chosen even if the arguments would produce an\n",
      "        array of integers.\n",
      "    \n",
      "        .. versionadded:: 1.9.0\n",
      "    axis : int, optional\n",
      "        The axis in the result to store the samples.  Relevant only if start\n",
      "        or stop are array-like.  By default (0), the samples will be along a\n",
      "        new axis inserted at the beginning. Use -1 to get an axis at the end.\n",
      "    \n",
      "        .. versionadded:: 1.16.0\n",
      "    device : str, optional\n",
      "        The device on which to place the created array. Default: None.\n",
      "        For Array-API interoperability only, so must be ``\"cpu\"`` if passed.\n",
      "    \n",
      "        .. versionadded:: 2.0.0\n",
      "    \n",
      "    Returns\n",
      "    -------\n",
      "    samples : ndarray\n",
      "        There are `num` equally spaced samples in the closed interval\n",
      "        ``[start, stop]`` or the half-open interval ``[start, stop)``\n",
      "        (depending on whether `endpoint` is True or False).\n",
      "    step : float, optional\n",
      "        Only returned if `retstep` is True\n",
      "    \n",
      "        Size of spacing between samples.\n",
      "    \n",
      "    \n",
      "    See Also\n",
      "    --------\n",
      "    arange : Similar to `linspace`, but uses a step size (instead of the\n",
      "             number of samples).\n",
      "    geomspace : Similar to `linspace`, but with numbers spaced evenly on a log\n",
      "                scale (a geometric progression).\n",
      "    logspace : Similar to `geomspace`, but with the end points specified as\n",
      "               logarithms.\n",
      "    :ref:`how-to-partition`\n",
      "    \n",
      "    Examples\n",
      "    --------\n",
      "    >>> import numpy as np\n",
      "    >>> np.linspace(2.0, 3.0, num=5)\n",
      "    array([2.  , 2.25, 2.5 , 2.75, 3.  ])\n",
      "    >>> np.linspace(2.0, 3.0, num=5, endpoint=False)\n",
      "    array([2. ,  2.2,  2.4,  2.6,  2.8])\n",
      "    >>> np.linspace(2.0, 3.0, num=5, retstep=True)\n",
      "    (array([2.  ,  2.25,  2.5 ,  2.75,  3.  ]), 0.25)\n",
      "    \n",
      "    Graphical illustration:\n",
      "    \n",
      "    >>> import matplotlib.pyplot as plt\n",
      "    >>> N = 8\n",
      "    >>> y = np.zeros(N)\n",
      "    >>> x1 = np.linspace(0, 10, N, endpoint=True)\n",
      "    >>> x2 = np.linspace(0, 10, N, endpoint=False)\n",
      "    >>> plt.plot(x1, y, 'o')\n",
      "    [<matplotlib.lines.Line2D object at 0x...>]\n",
      "    >>> plt.plot(x2, y + 0.5, 'o')\n",
      "    [<matplotlib.lines.Line2D object at 0x...>]\n",
      "    >>> plt.ylim([-0.5, 1])\n",
      "    (-0.5, 1)\n",
      "    >>> plt.show()\n",
      "\n"
     ]
    }
   ],
   "source": [
    "help(np.linspace)"
   ]
  }
 ],
 "metadata": {
  "kernelspec": {
   "display_name": "Python 3",
   "language": "python",
   "name": "python3"
  },
  "language_info": {
   "codemirror_mode": {
    "name": "ipython",
    "version": 3
   },
   "file_extension": ".py",
   "mimetype": "text/x-python",
   "name": "python",
   "nbconvert_exporter": "python",
   "pygments_lexer": "ipython3",
   "version": "3.11.9"
  }
 },
 "nbformat": 4,
 "nbformat_minor": 2
}
